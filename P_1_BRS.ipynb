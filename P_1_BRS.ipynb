{
  "nbformat": 4,
  "nbformat_minor": 0,
  "metadata": {
    "colab": {
      "name": "P-1-BRS.ipynb",
      "provenance": [],
      "collapsed_sections": []
    },
    "kernelspec": {
      "name": "python3",
      "display_name": "Python 3"
    }
  },
  "cells": [
    {
      "cell_type": "markdown",
      "metadata": {
        "id": "iWEGQMhkxmc7",
        "colab_type": "text"
      },
      "source": [
        "# Book Recommendation System"
      ]
    },
    {
      "cell_type": "markdown",
      "metadata": {
        "id": "v9210c-gx6ZZ",
        "colab_type": "text"
      },
      "source": [
        "### Downloading Dataset"
      ]
    },
    {
      "cell_type": "code",
      "metadata": {
        "id": "AedKox8kG8px",
        "colab_type": "code",
        "colab": {
          "base_uri": "https://localhost:8080/",
          "height": 289
        },
        "outputId": "d148257d-39e4-41bd-dda2-c1053712f833"
      },
      "source": [
        "!wget -O /content/BX-CSV-Dump.zip http://www2.informatik.uni-freiburg.de/~cziegler/BX/BX-CSV-Dump.zip\n",
        "print('unziping ...')\n",
        "!unzip -o -j /content/BX-CSV-Dump.zip"
      ],
      "execution_count": 101,
      "outputs": [
        {
          "output_type": "stream",
          "text": [
            "--2020-09-23 14:00:46--  http://www2.informatik.uni-freiburg.de/~cziegler/BX/BX-CSV-Dump.zip\n",
            "Resolving www2.informatik.uni-freiburg.de (www2.informatik.uni-freiburg.de)... 132.230.105.133\n",
            "Connecting to www2.informatik.uni-freiburg.de (www2.informatik.uni-freiburg.de)|132.230.105.133|:80... connected.\n",
            "HTTP request sent, awaiting response... 200 OK\n",
            "Length: 26085508 (25M) [application/zip]\n",
            "Saving to: ‘/content/BX-CSV-Dump.zip’\n",
            "\n",
            "/content/BX-CSV-Dum 100%[===================>]  24.88M  16.0MB/s    in 1.5s    \n",
            "\n",
            "2020-09-23 14:00:48 (16.0 MB/s) - ‘/content/BX-CSV-Dump.zip’ saved [26085508/26085508]\n",
            "\n",
            "unziping ...\n",
            "Archive:  /content/BX-CSV-Dump.zip\n",
            "  inflating: BX-Book-Ratings.csv     \n",
            "  inflating: BX-Books.csv            \n",
            "  inflating: BX-Users.csv            \n"
          ],
          "name": "stdout"
        }
      ]
    },
    {
      "cell_type": "markdown",
      "metadata": {
        "id": "DconEI_cQ6J5",
        "colab_type": "text"
      },
      "source": [
        "### Importing Libraries"
      ]
    },
    {
      "cell_type": "code",
      "metadata": {
        "id": "Xjs5uqklQ70R",
        "colab_type": "code",
        "colab": {}
      },
      "source": [
        "import pandas as pd\n",
        "from math import sqrt\n",
        "import numpy as np\n",
        "import matplotlib.pyplot as plt\n",
        "%matplotlib inline"
      ],
      "execution_count": 102,
      "outputs": []
    },
    {
      "cell_type": "code",
      "metadata": {
        "id": "XbR3_jg5LrTZ",
        "colab_type": "code",
        "colab": {}
      },
      "source": [
        "BR = pd.read_csv(\"BX-Book-Ratings.csv\",encoding= 'unicode_escape',low_memory=False,sep=';') "
      ],
      "execution_count": 103,
      "outputs": []
    },
    {
      "cell_type": "code",
      "metadata": {
        "id": "mkqGhOt2O_Ws",
        "colab_type": "code",
        "colab": {
          "base_uri": "https://localhost:8080/",
          "height": 204
        },
        "outputId": "a892b1ac-2ff2-4cc3-b3f3-82bd5b55f4e7"
      },
      "source": [
        "BR.head()"
      ],
      "execution_count": 104,
      "outputs": [
        {
          "output_type": "execute_result",
          "data": {
            "text/html": [
              "<div>\n",
              "<style scoped>\n",
              "    .dataframe tbody tr th:only-of-type {\n",
              "        vertical-align: middle;\n",
              "    }\n",
              "\n",
              "    .dataframe tbody tr th {\n",
              "        vertical-align: top;\n",
              "    }\n",
              "\n",
              "    .dataframe thead th {\n",
              "        text-align: right;\n",
              "    }\n",
              "</style>\n",
              "<table border=\"1\" class=\"dataframe\">\n",
              "  <thead>\n",
              "    <tr style=\"text-align: right;\">\n",
              "      <th></th>\n",
              "      <th>User-ID</th>\n",
              "      <th>ISBN</th>\n",
              "      <th>Book-Rating</th>\n",
              "    </tr>\n",
              "  </thead>\n",
              "  <tbody>\n",
              "    <tr>\n",
              "      <th>0</th>\n",
              "      <td>276725</td>\n",
              "      <td>034545104X</td>\n",
              "      <td>0</td>\n",
              "    </tr>\n",
              "    <tr>\n",
              "      <th>1</th>\n",
              "      <td>276726</td>\n",
              "      <td>0155061224</td>\n",
              "      <td>5</td>\n",
              "    </tr>\n",
              "    <tr>\n",
              "      <th>2</th>\n",
              "      <td>276727</td>\n",
              "      <td>0446520802</td>\n",
              "      <td>0</td>\n",
              "    </tr>\n",
              "    <tr>\n",
              "      <th>3</th>\n",
              "      <td>276729</td>\n",
              "      <td>052165615X</td>\n",
              "      <td>3</td>\n",
              "    </tr>\n",
              "    <tr>\n",
              "      <th>4</th>\n",
              "      <td>276729</td>\n",
              "      <td>0521795028</td>\n",
              "      <td>6</td>\n",
              "    </tr>\n",
              "  </tbody>\n",
              "</table>\n",
              "</div>"
            ],
            "text/plain": [
              "   User-ID        ISBN  Book-Rating\n",
              "0   276725  034545104X            0\n",
              "1   276726  0155061224            5\n",
              "2   276727  0446520802            0\n",
              "3   276729  052165615X            3\n",
              "4   276729  0521795028            6"
            ]
          },
          "metadata": {
            "tags": []
          },
          "execution_count": 104
        }
      ]
    },
    {
      "cell_type": "code",
      "metadata": {
        "id": "47RbnmycY2W7",
        "colab_type": "code",
        "colab": {
          "base_uri": "https://localhost:8080/",
          "height": 54
        },
        "outputId": "74fdcd75-b218-4181-e581-b398eb6bbef5"
      },
      "source": [
        "B = pd.read_csv(\"BX-Books.csv\",encoding='unicode_escape',low_memory=False,sep=';',error_bad_lines=False)"
      ],
      "execution_count": 105,
      "outputs": [
        {
          "output_type": "stream",
          "text": [
            "b'Skipping line 6452: expected 8 fields, saw 9\\nSkipping line 43667: expected 8 fields, saw 9\\nSkipping line 51751: expected 8 fields, saw 9\\nSkipping line 92038: expected 8 fields, saw 9\\nSkipping line 104319: expected 8 fields, saw 9\\nSkipping line 121768: expected 8 fields, saw 9\\nSkipping line 144058: expected 8 fields, saw 9\\nSkipping line 150789: expected 8 fields, saw 9\\nSkipping line 157128: expected 8 fields, saw 9\\nSkipping line 180189: expected 8 fields, saw 9\\nSkipping line 185738: expected 8 fields, saw 9\\nSkipping line 209388: expected 8 fields, saw 9\\nSkipping line 220626: expected 8 fields, saw 9\\nSkipping line 227933: expected 8 fields, saw 11\\nSkipping line 228957: expected 8 fields, saw 10\\nSkipping line 245933: expected 8 fields, saw 9\\nSkipping line 251296: expected 8 fields, saw 9\\nSkipping line 259941: expected 8 fields, saw 9\\nSkipping line 261529: expected 8 fields, saw 9\\n'\n"
          ],
          "name": "stderr"
        }
      ]
    },
    {
      "cell_type": "code",
      "metadata": {
        "id": "4Z3Zi93RjZ4v",
        "colab_type": "code",
        "colab": {
          "base_uri": "https://localhost:8080/",
          "height": 428
        },
        "outputId": "0ca2c6b8-5f60-4542-e125-1baa10a8b57d"
      },
      "source": [
        "B.head()"
      ],
      "execution_count": 106,
      "outputs": [
        {
          "output_type": "execute_result",
          "data": {
            "text/html": [
              "<div>\n",
              "<style scoped>\n",
              "    .dataframe tbody tr th:only-of-type {\n",
              "        vertical-align: middle;\n",
              "    }\n",
              "\n",
              "    .dataframe tbody tr th {\n",
              "        vertical-align: top;\n",
              "    }\n",
              "\n",
              "    .dataframe thead th {\n",
              "        text-align: right;\n",
              "    }\n",
              "</style>\n",
              "<table border=\"1\" class=\"dataframe\">\n",
              "  <thead>\n",
              "    <tr style=\"text-align: right;\">\n",
              "      <th></th>\n",
              "      <th>ISBN</th>\n",
              "      <th>Book-Title</th>\n",
              "      <th>Book-Author</th>\n",
              "      <th>Year-Of-Publication</th>\n",
              "      <th>Publisher</th>\n",
              "      <th>Image-URL-S</th>\n",
              "      <th>Image-URL-M</th>\n",
              "      <th>Image-URL-L</th>\n",
              "    </tr>\n",
              "  </thead>\n",
              "  <tbody>\n",
              "    <tr>\n",
              "      <th>0</th>\n",
              "      <td>0195153448</td>\n",
              "      <td>Classical Mythology</td>\n",
              "      <td>Mark P. O. Morford</td>\n",
              "      <td>2002</td>\n",
              "      <td>Oxford University Press</td>\n",
              "      <td>http://images.amazon.com/images/P/0195153448.0...</td>\n",
              "      <td>http://images.amazon.com/images/P/0195153448.0...</td>\n",
              "      <td>http://images.amazon.com/images/P/0195153448.0...</td>\n",
              "    </tr>\n",
              "    <tr>\n",
              "      <th>1</th>\n",
              "      <td>0002005018</td>\n",
              "      <td>Clara Callan</td>\n",
              "      <td>Richard Bruce Wright</td>\n",
              "      <td>2001</td>\n",
              "      <td>HarperFlamingo Canada</td>\n",
              "      <td>http://images.amazon.com/images/P/0002005018.0...</td>\n",
              "      <td>http://images.amazon.com/images/P/0002005018.0...</td>\n",
              "      <td>http://images.amazon.com/images/P/0002005018.0...</td>\n",
              "    </tr>\n",
              "    <tr>\n",
              "      <th>2</th>\n",
              "      <td>0060973129</td>\n",
              "      <td>Decision in Normandy</td>\n",
              "      <td>Carlo D'Este</td>\n",
              "      <td>1991</td>\n",
              "      <td>HarperPerennial</td>\n",
              "      <td>http://images.amazon.com/images/P/0060973129.0...</td>\n",
              "      <td>http://images.amazon.com/images/P/0060973129.0...</td>\n",
              "      <td>http://images.amazon.com/images/P/0060973129.0...</td>\n",
              "    </tr>\n",
              "    <tr>\n",
              "      <th>3</th>\n",
              "      <td>0374157065</td>\n",
              "      <td>Flu: The Story of the Great Influenza Pandemic...</td>\n",
              "      <td>Gina Bari Kolata</td>\n",
              "      <td>1999</td>\n",
              "      <td>Farrar Straus Giroux</td>\n",
              "      <td>http://images.amazon.com/images/P/0374157065.0...</td>\n",
              "      <td>http://images.amazon.com/images/P/0374157065.0...</td>\n",
              "      <td>http://images.amazon.com/images/P/0374157065.0...</td>\n",
              "    </tr>\n",
              "    <tr>\n",
              "      <th>4</th>\n",
              "      <td>0393045218</td>\n",
              "      <td>The Mummies of Urumchi</td>\n",
              "      <td>E. J. W. Barber</td>\n",
              "      <td>1999</td>\n",
              "      <td>W. W. Norton &amp;amp; Company</td>\n",
              "      <td>http://images.amazon.com/images/P/0393045218.0...</td>\n",
              "      <td>http://images.amazon.com/images/P/0393045218.0...</td>\n",
              "      <td>http://images.amazon.com/images/P/0393045218.0...</td>\n",
              "    </tr>\n",
              "  </tbody>\n",
              "</table>\n",
              "</div>"
            ],
            "text/plain": [
              "         ISBN  ...                                        Image-URL-L\n",
              "0  0195153448  ...  http://images.amazon.com/images/P/0195153448.0...\n",
              "1  0002005018  ...  http://images.amazon.com/images/P/0002005018.0...\n",
              "2  0060973129  ...  http://images.amazon.com/images/P/0060973129.0...\n",
              "3  0374157065  ...  http://images.amazon.com/images/P/0374157065.0...\n",
              "4  0393045218  ...  http://images.amazon.com/images/P/0393045218.0...\n",
              "\n",
              "[5 rows x 8 columns]"
            ]
          },
          "metadata": {
            "tags": []
          },
          "execution_count": 106
        }
      ]
    },
    {
      "cell_type": "code",
      "metadata": {
        "id": "qyN-slOTkpn0",
        "colab_type": "code",
        "colab": {}
      },
      "source": [
        "U = pd.read_csv(\"BX-Users.csv\",encoding='unicode_escape',low_memory=False,sep=';',error_bad_lines=False)"
      ],
      "execution_count": 107,
      "outputs": []
    },
    {
      "cell_type": "code",
      "metadata": {
        "id": "RuGh5Di0lYav",
        "colab_type": "code",
        "colab": {
          "base_uri": "https://localhost:8080/",
          "height": 204
        },
        "outputId": "e7e8aba5-2037-49a7-b886-1de57ac12402"
      },
      "source": [
        "U.head()"
      ],
      "execution_count": 108,
      "outputs": [
        {
          "output_type": "execute_result",
          "data": {
            "text/html": [
              "<div>\n",
              "<style scoped>\n",
              "    .dataframe tbody tr th:only-of-type {\n",
              "        vertical-align: middle;\n",
              "    }\n",
              "\n",
              "    .dataframe tbody tr th {\n",
              "        vertical-align: top;\n",
              "    }\n",
              "\n",
              "    .dataframe thead th {\n",
              "        text-align: right;\n",
              "    }\n",
              "</style>\n",
              "<table border=\"1\" class=\"dataframe\">\n",
              "  <thead>\n",
              "    <tr style=\"text-align: right;\">\n",
              "      <th></th>\n",
              "      <th>User-ID</th>\n",
              "      <th>Location</th>\n",
              "      <th>Age</th>\n",
              "    </tr>\n",
              "  </thead>\n",
              "  <tbody>\n",
              "    <tr>\n",
              "      <th>0</th>\n",
              "      <td>1</td>\n",
              "      <td>nyc, new york, usa</td>\n",
              "      <td>NaN</td>\n",
              "    </tr>\n",
              "    <tr>\n",
              "      <th>1</th>\n",
              "      <td>2</td>\n",
              "      <td>stockton, california, usa</td>\n",
              "      <td>18.0</td>\n",
              "    </tr>\n",
              "    <tr>\n",
              "      <th>2</th>\n",
              "      <td>3</td>\n",
              "      <td>moscow, yukon territory, russia</td>\n",
              "      <td>NaN</td>\n",
              "    </tr>\n",
              "    <tr>\n",
              "      <th>3</th>\n",
              "      <td>4</td>\n",
              "      <td>porto, v.n.gaia, portugal</td>\n",
              "      <td>17.0</td>\n",
              "    </tr>\n",
              "    <tr>\n",
              "      <th>4</th>\n",
              "      <td>5</td>\n",
              "      <td>farnborough, hants, united kingdom</td>\n",
              "      <td>NaN</td>\n",
              "    </tr>\n",
              "  </tbody>\n",
              "</table>\n",
              "</div>"
            ],
            "text/plain": [
              "   User-ID                            Location   Age\n",
              "0        1                  nyc, new york, usa   NaN\n",
              "1        2           stockton, california, usa  18.0\n",
              "2        3     moscow, yukon territory, russia   NaN\n",
              "3        4           porto, v.n.gaia, portugal  17.0\n",
              "4        5  farnborough, hants, united kingdom   NaN"
            ]
          },
          "metadata": {
            "tags": []
          },
          "execution_count": 108
        }
      ]
    },
    {
      "cell_type": "markdown",
      "metadata": {
        "id": "YmgYkAI518x1",
        "colab_type": "text"
      },
      "source": [
        "## Collaborative Filtering"
      ]
    },
    {
      "cell_type": "markdown",
      "metadata": {
        "id": "TjvMshEB2Cyg",
        "colab_type": "text"
      },
      "source": [
        "###Collaborative Filtering or User-User Filtering is the technique that uses other users to recommend items to the input user. It finds users that have similar preferences as the input and then recommends items that they have liked to the new user. Here, Pearson Correlation Function is used for finding similar users."
      ]
    },
    {
      "cell_type": "markdown",
      "metadata": {
        "id": "3DZdSGZOxIXv",
        "colab_type": "text"
      },
      "source": [
        "###Books read by the User"
      ]
    },
    {
      "cell_type": "code",
      "metadata": {
        "id": "Dja9vV4alaXK",
        "colab_type": "code",
        "colab": {
          "base_uri": "https://localhost:8080/",
          "height": 204
        },
        "outputId": "19892118-8bc6-4a1a-86fb-3328f851ca0e"
      },
      "source": [
        "userInput = [\n",
        "            {'Book-Title':'The Satanic Verses', 'Book-Rating':3.5},\n",
        "            {'Book-Title':'Don Quixote', 'Book-Rating':5},\n",
        "            {'Book-Title':'To Kill a Mockingbird', 'Book-Rating':4.5},\n",
        "            {'Book-Title':'A Passage to India', 'Book-Rating':2},\n",
        "            {'Book-Title':'Beloved', 'Book-Rating':5}               \n",
        "         ] \n",
        "inputBooks = pd.DataFrame(userInput)\n",
        "inputBooks"
      ],
      "execution_count": 109,
      "outputs": [
        {
          "output_type": "execute_result",
          "data": {
            "text/html": [
              "<div>\n",
              "<style scoped>\n",
              "    .dataframe tbody tr th:only-of-type {\n",
              "        vertical-align: middle;\n",
              "    }\n",
              "\n",
              "    .dataframe tbody tr th {\n",
              "        vertical-align: top;\n",
              "    }\n",
              "\n",
              "    .dataframe thead th {\n",
              "        text-align: right;\n",
              "    }\n",
              "</style>\n",
              "<table border=\"1\" class=\"dataframe\">\n",
              "  <thead>\n",
              "    <tr style=\"text-align: right;\">\n",
              "      <th></th>\n",
              "      <th>Book-Title</th>\n",
              "      <th>Book-Rating</th>\n",
              "    </tr>\n",
              "  </thead>\n",
              "  <tbody>\n",
              "    <tr>\n",
              "      <th>0</th>\n",
              "      <td>The Satanic Verses</td>\n",
              "      <td>3.5</td>\n",
              "    </tr>\n",
              "    <tr>\n",
              "      <th>1</th>\n",
              "      <td>Don Quixote</td>\n",
              "      <td>5.0</td>\n",
              "    </tr>\n",
              "    <tr>\n",
              "      <th>2</th>\n",
              "      <td>To Kill a Mockingbird</td>\n",
              "      <td>4.5</td>\n",
              "    </tr>\n",
              "    <tr>\n",
              "      <th>3</th>\n",
              "      <td>A Passage to India</td>\n",
              "      <td>2.0</td>\n",
              "    </tr>\n",
              "    <tr>\n",
              "      <th>4</th>\n",
              "      <td>Beloved</td>\n",
              "      <td>5.0</td>\n",
              "    </tr>\n",
              "  </tbody>\n",
              "</table>\n",
              "</div>"
            ],
            "text/plain": [
              "              Book-Title  Book-Rating\n",
              "0     The Satanic Verses          3.5\n",
              "1            Don Quixote          5.0\n",
              "2  To Kill a Mockingbird          4.5\n",
              "3     A Passage to India          2.0\n",
              "4                Beloved          5.0"
            ]
          },
          "metadata": {
            "tags": []
          },
          "execution_count": 109
        }
      ]
    },
    {
      "cell_type": "code",
      "metadata": {
        "id": "4e9zXsXontX8",
        "colab_type": "code",
        "colab": {
          "base_uri": "https://localhost:8080/",
          "height": 204
        },
        "outputId": "d421f4c4-f4ce-4c6c-9ea7-517608ebbcb9"
      },
      "source": [
        "#Filtering out the books by title\n",
        "inputId = B[B['Book-Title'].isin(inputBooks['Book-Title'].tolist())]\n",
        "#Then merging it so we can get ISBN. Merging is done implicitly by title.\n",
        "inputBooks = pd.merge(inputId, inputBooks)\n",
        "#Dropping columns that are not required\n",
        "inputBooks = inputBooks.drop('Year-Of-Publication', 1)\n",
        "inputBooks = inputBooks.drop('Image-URL-S', 1)\n",
        "inputBooks = inputBooks.drop('Image-URL-M', 1)\n",
        "inputBooks = inputBooks.drop('Image-URL-L', 1)\n",
        "inputBooks = inputBooks.drop('Publisher', 1)\n",
        "inputBooks = inputBooks.drop('Book-Author', 1)\n",
        "inputBooks.head()"
      ],
      "execution_count": 110,
      "outputs": [
        {
          "output_type": "execute_result",
          "data": {
            "text/html": [
              "<div>\n",
              "<style scoped>\n",
              "    .dataframe tbody tr th:only-of-type {\n",
              "        vertical-align: middle;\n",
              "    }\n",
              "\n",
              "    .dataframe tbody tr th {\n",
              "        vertical-align: top;\n",
              "    }\n",
              "\n",
              "    .dataframe thead th {\n",
              "        text-align: right;\n",
              "    }\n",
              "</style>\n",
              "<table border=\"1\" class=\"dataframe\">\n",
              "  <thead>\n",
              "    <tr style=\"text-align: right;\">\n",
              "      <th></th>\n",
              "      <th>ISBN</th>\n",
              "      <th>Book-Title</th>\n",
              "      <th>Book-Rating</th>\n",
              "    </tr>\n",
              "  </thead>\n",
              "  <tbody>\n",
              "    <tr>\n",
              "      <th>0</th>\n",
              "      <td>0446310786</td>\n",
              "      <td>To Kill a Mockingbird</td>\n",
              "      <td>4.5</td>\n",
              "    </tr>\n",
              "    <tr>\n",
              "      <th>1</th>\n",
              "      <td>0446310492</td>\n",
              "      <td>To Kill a Mockingbird</td>\n",
              "      <td>4.5</td>\n",
              "    </tr>\n",
              "    <tr>\n",
              "      <th>2</th>\n",
              "      <td>0060935464</td>\n",
              "      <td>To Kill a Mockingbird</td>\n",
              "      <td>4.5</td>\n",
              "    </tr>\n",
              "    <tr>\n",
              "      <th>3</th>\n",
              "      <td>0397001517</td>\n",
              "      <td>To Kill a Mockingbird</td>\n",
              "      <td>4.5</td>\n",
              "    </tr>\n",
              "    <tr>\n",
              "      <th>4</th>\n",
              "      <td>006017322X</td>\n",
              "      <td>To Kill a Mockingbird</td>\n",
              "      <td>4.5</td>\n",
              "    </tr>\n",
              "  </tbody>\n",
              "</table>\n",
              "</div>"
            ],
            "text/plain": [
              "         ISBN             Book-Title  Book-Rating\n",
              "0  0446310786  To Kill a Mockingbird          4.5\n",
              "1  0446310492  To Kill a Mockingbird          4.5\n",
              "2  0060935464  To Kill a Mockingbird          4.5\n",
              "3  0397001517  To Kill a Mockingbird          4.5\n",
              "4  006017322X  To Kill a Mockingbird          4.5"
            ]
          },
          "metadata": {
            "tags": []
          },
          "execution_count": 110
        }
      ]
    },
    {
      "cell_type": "markdown",
      "metadata": {
        "id": "1lfxu1dwznE4",
        "colab_type": "text"
      },
      "source": [
        "###Users who have read the same Books"
      ]
    },
    {
      "cell_type": "code",
      "metadata": {
        "id": "0c-wq6kiq14r",
        "colab_type": "code",
        "colab": {
          "base_uri": "https://localhost:8080/",
          "height": 419
        },
        "outputId": "87800a7e-6547-46a8-ecb0-35c7abb291de"
      },
      "source": [
        "NewReaderSubset = BR[BR['ISBN'].isin(inputBooks['ISBN'].tolist())] \n",
        "NewReaderSubset"
      ],
      "execution_count": 111,
      "outputs": [
        {
          "output_type": "execute_result",
          "data": {
            "text/html": [
              "<div>\n",
              "<style scoped>\n",
              "    .dataframe tbody tr th:only-of-type {\n",
              "        vertical-align: middle;\n",
              "    }\n",
              "\n",
              "    .dataframe tbody tr th {\n",
              "        vertical-align: top;\n",
              "    }\n",
              "\n",
              "    .dataframe thead th {\n",
              "        text-align: right;\n",
              "    }\n",
              "</style>\n",
              "<table border=\"1\" class=\"dataframe\">\n",
              "  <thead>\n",
              "    <tr style=\"text-align: right;\">\n",
              "      <th></th>\n",
              "      <th>User-ID</th>\n",
              "      <th>ISBN</th>\n",
              "      <th>Book-Rating</th>\n",
              "    </tr>\n",
              "  </thead>\n",
              "  <tbody>\n",
              "    <tr>\n",
              "      <th>648</th>\n",
              "      <td>276953</td>\n",
              "      <td>0446310786</td>\n",
              "      <td>10</td>\n",
              "    </tr>\n",
              "    <tr>\n",
              "      <th>2827</th>\n",
              "      <td>277743</td>\n",
              "      <td>0446310786</td>\n",
              "      <td>9</td>\n",
              "    </tr>\n",
              "    <tr>\n",
              "      <th>3176</th>\n",
              "      <td>277954</td>\n",
              "      <td>0446310492</td>\n",
              "      <td>0</td>\n",
              "    </tr>\n",
              "    <tr>\n",
              "      <th>4125</th>\n",
              "      <td>278243</td>\n",
              "      <td>0156711427</td>\n",
              "      <td>8</td>\n",
              "    </tr>\n",
              "    <tr>\n",
              "      <th>5005</th>\n",
              "      <td>278418</td>\n",
              "      <td>0345327853</td>\n",
              "      <td>0</td>\n",
              "    </tr>\n",
              "    <tr>\n",
              "      <th>...</th>\n",
              "      <td>...</td>\n",
              "      <td>...</td>\n",
              "      <td>...</td>\n",
              "    </tr>\n",
              "    <tr>\n",
              "      <th>1144914</th>\n",
              "      <td>275306</td>\n",
              "      <td>0446310786</td>\n",
              "      <td>10</td>\n",
              "    </tr>\n",
              "    <tr>\n",
              "      <th>1145467</th>\n",
              "      <td>275520</td>\n",
              "      <td>0446310786</td>\n",
              "      <td>8</td>\n",
              "    </tr>\n",
              "    <tr>\n",
              "      <th>1147047</th>\n",
              "      <td>275970</td>\n",
              "      <td>0670825379</td>\n",
              "      <td>0</td>\n",
              "    </tr>\n",
              "    <tr>\n",
              "      <th>1149450</th>\n",
              "      <td>276680</td>\n",
              "      <td>0060188707</td>\n",
              "      <td>0</td>\n",
              "    </tr>\n",
              "    <tr>\n",
              "      <th>1149539</th>\n",
              "      <td>276680</td>\n",
              "      <td>0397001517</td>\n",
              "      <td>0</td>\n",
              "    </tr>\n",
              "  </tbody>\n",
              "</table>\n",
              "<p>855 rows × 3 columns</p>\n",
              "</div>"
            ],
            "text/plain": [
              "         User-ID        ISBN  Book-Rating\n",
              "648       276953  0446310786           10\n",
              "2827      277743  0446310786            9\n",
              "3176      277954  0446310492            0\n",
              "4125      278243  0156711427            8\n",
              "5005      278418  0345327853            0\n",
              "...          ...         ...          ...\n",
              "1144914   275306  0446310786           10\n",
              "1145467   275520  0446310786            8\n",
              "1147047   275970  0670825379            0\n",
              "1149450   276680  0060188707            0\n",
              "1149539   276680  0397001517            0\n",
              "\n",
              "[855 rows x 3 columns]"
            ]
          },
          "metadata": {
            "tags": []
          },
          "execution_count": 111
        }
      ]
    },
    {
      "cell_type": "code",
      "metadata": {
        "id": "-8BKLTqRtHxT",
        "colab_type": "code",
        "colab": {}
      },
      "source": [
        "#Grouping by User-ID\n",
        "NewReaderSubsetGroup = NewReaderSubset.groupby(['User-ID'])"
      ],
      "execution_count": 112,
      "outputs": []
    },
    {
      "cell_type": "code",
      "metadata": {
        "id": "T3w618gBvnmT",
        "colab_type": "code",
        "colab": {}
      },
      "source": [
        "#Sorting it so that the users with books most common with the input will have priority\n",
        "NewReaderSubsetGroup = sorted(NewReaderSubsetGroup,  key=lambda x: len(x[1]), reverse=True)"
      ],
      "execution_count": 113,
      "outputs": []
    },
    {
      "cell_type": "code",
      "metadata": {
        "id": "qCW0J2juwIOY",
        "colab_type": "code",
        "colab": {
          "base_uri": "https://localhost:8080/",
          "height": 425
        },
        "outputId": "5a635ef4-9d75-420a-de57-29162a50e877"
      },
      "source": [
        "NewReaderSubsetGroup[0:5]"
      ],
      "execution_count": 114,
      "outputs": [
        {
          "output_type": "execute_result",
          "data": {
            "text/plain": [
              "[(11676,        User-ID        ISBN  Book-Rating\n",
              "  45730    11676  0060935464           10\n",
              "  48925    11676  0394535979           10\n",
              "  50007    11676  0446310786            0\n",
              "  52282    11676  0670825379            0\n",
              "  55139    11676  0899668585            8),\n",
              " (55492,         User-ID        ISBN  Book-Rating\n",
              "  238498    55492  0156711427            0\n",
              "  239467    55492  0446310786            0\n",
              "  239759    55492  0452280621            0\n",
              "  240613    55492  0963270702            0),\n",
              " (271705,          User-ID        ISBN  Book-Rating\n",
              "  1132864   271705  0156711427            7\n",
              "  1132936   271705  0446310786            0\n",
              "  1132954   271705  0452280621            9\n",
              "  1133030   271705  0963270702            8),\n",
              " (23768,         User-ID        ISBN  Book-Rating\n",
              "  101937    23768  0446310786            0\n",
              "  102045    23768  0451161394            0\n",
              "  102857    23768  1580601200            0),\n",
              " (23902,         User-ID        ISBN  Book-Rating\n",
              "  104007    23902  0156711427            8\n",
              "  104336    23902  0446310786            7\n",
              "  104561    23902  0670825379            5)]"
            ]
          },
          "metadata": {
            "tags": []
          },
          "execution_count": 114
        }
      ]
    },
    {
      "cell_type": "markdown",
      "metadata": {
        "id": "7jph6bcB37iS",
        "colab_type": "text"
      },
      "source": [
        "###Using Pearson Correlation"
      ]
    },
    {
      "cell_type": "code",
      "metadata": {
        "id": "KduL2kc6xLIa",
        "colab_type": "code",
        "colab": {}
      },
      "source": [
        "#Storing the Pearson Correlation in a dictionary\n",
        "pearsonCorrelationDict = {}\n",
        "#For every new reader group in our subset\n",
        "for name, group in NewReaderSubsetGroup:\n",
        "    #Sorting the input and current user group so the values aren't mixed up later on\n",
        "    group = group.sort_values(by='ISBN')\n",
        "    inputBooks = inputBooks.sort_values(by='ISBN')\n",
        "    nRatings = len(group)\n",
        "    #Getting the review scores for books that they both have in common\n",
        "    temp_df = inputBooks[inputBooks['ISBN'].isin(group['ISBN'].tolist())]\n",
        "    #And then storing them in a temporary buffer variable in a list format to facilitate future calculations\n",
        "    tempRatingList = temp_df['Book-Rating'].tolist()\n",
        "    #Putting the current user group reviews in a list format\n",
        "    tempGroupList = group['Book-Rating'].tolist()\n",
        "    #Calculating the pearson correlation between two users, so called, x and y\n",
        "    Sxx = sum([i**2 for i in tempRatingList]) - pow(sum(tempRatingList),2)/float(nRatings)\n",
        "    Syy = sum([i**2 for i in tempGroupList]) - pow(sum(tempGroupList),2)/float(nRatings)\n",
        "    Sxy = sum( i*j for i, j in zip(tempRatingList, tempGroupList)) - sum(tempRatingList)*sum(tempGroupList)/float(nRatings)\n",
        "    #If the denominator is different than zero, then divide, else, 0 correlation.\n",
        "    if Sxx!= 0 and Syy!= 0:\n",
        "      pearsonCorrelationDict[name] = Sxy/sqrt(Sxx*Syy)\n",
        "    else:\n",
        "      pearsonCorrelationDict[name] = 0\n"
      ],
      "execution_count": 115,
      "outputs": []
    },
    {
      "cell_type": "code",
      "metadata": {
        "id": "bz9j8RB7yUaa",
        "colab_type": "code",
        "colab": {
          "base_uri": "https://localhost:8080/",
          "height": 54
        },
        "outputId": "e3e8224a-d171-407e-87d8-e8c0b28a9196"
      },
      "source": [
        "pearsonCorrelationDict.items()"
      ],
      "execution_count": 116,
      "outputs": [
        {
          "output_type": "execute_result",
          "data": {
            "text/plain": [
              "dict_items([(11676, 0.6877119754621323), (55492, 0), (271705, -0.18516401995451032), (23768, 0), (23902, -0.43355498476206183), (87555, 0), (142524, 0), (149907, 0), (185275, 0), (192093, 0), (209516, -0.6286185570937125), (211426, 0), (230522, 0.6286185570937124), (4017, 0), (8253, 1.0), (11601, -1.0), (21014, 0), (28150, 1.0), (30511, 1.0), (32440, 0), (36836, 0), (36907, 0), (39646, 0), (46398, -1.0), (50225, 0), (55548, 1.0), (60277, 0), (62558, 0), (66942, 1.0), (70882, 0), (76352, 0), (80538, 1.0), (93426, 0), (95359, 0), (104636, 0), (105979, -1.0), (110973, 0), (113519, -1.0), (114414, 0), (114868, 0), (115490, 0), (117594, 0), (129074, 0), (135831, 0), (138198, 0), (144255, 1.0), (153662, 0), (158254, 1.0), (168144, 0), (168816, 1.0), (170861, 0), (177432, 0), (185233, 0), (187145, 1.0), (197364, -1.0), (197775, 0), (201526, 1.0), (203075, 0), (210485, 1.0), (211919, 1.0), (222296, 0), (225986, 0), (228681, 0), (231210, 1.0), (234623, 0), (238120, 0), (239594, 1.0), (256407, -1.0), (260897, 1.0), (268032, 0), (269566, 0), (276680, 0), (278418, 0), (26, 0), (1025, 0), (1032, 0), (1293, 0), (1733, 0), (2766, 0), (3472, 0), (3538, 0), (3542, 0), (4225, 0), (4794, 0), (4864, 0), (5728, 0), (6242, 0), (6251, 0), (6575, 0), (7105, 0), (7346, 0), (7409, 0), (7841, 0), (8115, 0), (8362, 0), (9094, 0), (9381, 0), (9417, 0), (10118, 0), (10314, 0), (11657, 0), (12472, 0), (12538, 0), (13850, 0), (14422, 0), (14965, 0), (15497, 0), (15720, 0), (15775, 0), (16287, 0), (16634, 0), (16795, 0), (17950, 0), (18067, 0), (19202, 0), (19336, 0), (20005, 0), (20755, 0), (21356, 0), (21402, 0), (21576, 0), (21618, 0), (22365, 0), (23699, 0), (24194, 0), (24432, 0), (24452, 0), (24518, 0), (26057, 0), (26084, 0), (26544, 0), (26756, 0), (27472, 0), (27617, 0), (28204, 0), (28314, 0), (28372, 0), (28477, 0), (28492, 0), (29981, 0), (30487, 0), (30489, 0), (30533, 0), (31189, 0), (31315, 0), (31391, 0), (31556, 0), (31652, 0), (31668, 0), (31826, 0), (32089, 0), (32195, 0), (32528, 0), (33088, 0), (34193, 0), (35030, 0), (35050, 0), (35124, 0), (35445, 0), (35718, 0), (35793, 0), (35859, 0), (35918, 0), (36003, 0), (36304, 0), (36938, 0), (37400, 0), (37538, 0), (37567, 0), (37712, 0), (37950, 0), (38464, 0), (39281, 0), (39323, 0), (39385, 0), (39396, 0), (40330, 0), (40796, 0), (41084, 0), (41366, 0), (41385, 0), (41450, 0), (41738, 0), (42125, 0), (42323, 0), (42601, 0), (43101, 0), (43113, 0), (43246, 0), (43842, 0), (44089, 0), (44296, 0), (45033, 0), (45255, 0), (45340, 0), (45918, 0), (46443, 0), (46887, 0), (47971, 0), (47975, 0), (48268, 0), (48525, 0), (48653, 0), (48971, 0), (49155, 0), (49204, 0), (49421, 0), (49422, 0), (49900, 0), (49980, 0), (50749, 0), (51112, 0), (51350, 0), (51742, 0), (51810, 0), (51983, 0), (51992, 0), (52002, 0), (52199, 0), (53117, 0), (53174, 0), (53729, 0), (54913, 0), (55006, 0), (55075, 0), (55187, 0), (55607, 0), (55927, 0), (55973, 0), (56271, 0), (56391, 0), (56447, 0), (56804, 0), (57322, 0), (57398, 0), (59038, 0), (59150, 0), (59172, 0), (59912, 0), (59967, 0), (60244, 0), (60319, 0), (60569, 0), (60797, 0), (61147, 0), (61414, 0), (61888, 0), (61910, 0), (62239, 0), (63360, 0), (63394, 0), (63545, 0), (63625, 0), (64440, 0), (64943, 0), (65401, 0), (65665, 0), (66507, 0), (67123, 0), (67913, 0), (67997, 0), (68249, 0), (68555, 0), (68861, 0), (69023, 0), (69405, 0), (70052, 0), (70585, 0), (70999, 0), (71568, 0), (72785, 0), (72886, 0), (72949, 0), (73044, 0), (73331, 0), (73486, 0), (75064, 0), (75081, 0), (75119, 0), (75429, 0), (75485, 0), (76218, 0), (76482, 0), (76505, 0), (76626, 0), (76803, 0), (77480, 0), (79186, 0), (80397, 0), (80684, 0), (81138, 0), (81207, 0), (82600, 0), (83252, 0), (84033, 0), (84109, 0), (84227, 0), (84784, 0), (85433, 0), (85526, 0), (85534, 0), (85809, 0), (86202, 0), (86680, 0), (87216, 0), (87746, 0), (87911, 0), (87929, 0), (88122, 0), (88283, 0), (89602, 0), (89874, 0), (90046, 0), (90515, 0), (91203, 0), (91425, 0), (91633, 0), (91832, 0), (92478, 0), (92498, 0), (92659, 0), (92853, 0), (92946, 0), (93147, 0), (93631, 0), (94494, 0), (94944, 0), (95193, 0), (95525, 0), (96054, 0), (96357, 0), (96606, 0), (97754, 0), (97848, 0), (98440, 0), (98468, 0), (98484, 0), (98741, 0), (99252, 0), (99441, 0), (100459, 0), (100906, 0), (101126, 0), (102647, 0), (104657, 0), (104880, 0), (104948, 0), (105355, 0), (105374, 0), (105536, 0), (105937, 0), (106007, 0), (106225, 0), (106583, 0), (107021, 0), (107301, 0), (107784, 0), (108827, 0), (109416, 0), (109427, 0), (110029, 0), (110123, 0), (110702, 0), (110934, 0), (111245, 0), (112026, 0), (112570, 0), (112881, 0), (113680, 0), (113904, 0), (114258, 0), (114452, 0), (114893, 0), (114988, 0), (115003, 0), (115120, 0), (115252, 0), (115700, 0), (117577, 0), (117781, 0), (118164, 0), (119341, 0), (120080, 0), (120283, 0), (120935, 0), (121506, 0), (122037, 0), (123883, 0), (123981, 0), (124310, 0), (124487, 0), (124617, 0), (125736, 0), (125878, 0), (125892, 0), (126377, 0), (126840, 0), (127359, 0), (128325, 0), (128331, 0), (128574, 0), (128622, 0), (129084, 0), (129477, 0), (129641, 0), (129790, 0), (130837, 0), (131437, 0), (131655, 0), (131837, 0), (131852, 0), (132173, 0), (133747, 0), (134225, 0), (134264, 0), (134278, 0), (134837, 0), (135045, 0), (136139, 0), (136205, 0), (136211, 0), (136491, 0), (137587, 0), (137589, 0), (137746, 0), (137940, 0), (138543, 0), (140662, 0), (141023, 0), (141109, 0), (142253, 0), (142479, 0), (142801, 0), (143253, 0), (143792, 0), (144017, 0), (144791, 0), (144892, 0), (145449, 0), (145451, 0), (145641, 0), (146230, 0), (146650, 0), (146803, 0), (147385, 0), (147451, 0), (147847, 0), (150054, 0), (150124, 0), (150896, 0), (151537, 0), (151589, 0), (152483, 0), (152946, 0), (154218, 0), (154730, 0), (155000, 0), (155014, 0), (155147, 0), (157799, 0), (157851, 0), (158039, 0), (158774, 0), (159033, 0), (159977, 0), (160509, 0), (161211, 0), (161974, 0), (162664, 0), (162862, 0), (163326, 0), (163690, 0), (164096, 0), (164728, 0), (164953, 0), (165308, 0), (166363, 0), (166409, 0), (166463, 0), (167746, 0), (167800, 0), (168047, 0), (168215, 0), (169682, 0), (169781, 0), (170184, 0), (170229, 0), (170518, 0), (171118, 0), (172374, 0), (173291, 0), (173679, 0), (174057, 0), (174216, 0), (174304, 0), (174362, 0), (175052, 0), (175283, 0), (176887, 0), (177284, 0), (177989, 0), (178144, 0), (178199, 0), (178667, 0), (178953, 0), (179019, 0), (179118, 0), (180042, 0), (180917, 0), (181176, 0), (181212, 0), (182085, 0), (182442, 0), (182987, 0), (183101, 0), (184279, 0), (184299, 0), (184311, 0), (184904, 0), (185384, 0), (185593, 0), (187863, 0), (188010, 0), (188369, 0), (189725, 0), (191126, 0), (192353, 0), (192428, 0), (192739, 0), (193337, 0), (193676, 0), (195101, 0), (195188, 0), (195469, 0), (196053, 0), (196077, 0), (196106, 0), (196457, 0), (196978, 0), (197410, 0), (197913, 0), (198213, 0), (198711, 0), (199041, 0), (199092, 0), (200226, 0), (200300, 0), (200978, 0), (201017, 0), (201674, 0), (201697, 0), (202058, 0), (202127, 0), (202182, 0), (203033, 0), (203240, 0), (203968, 0), (204100, 0), (204131, 0), (204494, 0), (204622, 0), (204762, 0), (205412, 0), (205473, 0), (205520, 0), (206967, 0), (206972, 0), (207246, 0), (207721, 0), (207883, 0), (207971, 0), (209160, 0), (209631, 0), (209724, 0), (209789, 0), (210168, 0), (210311, 0), (210597, 0), (210792, 0), (211288, 0), (211351, 0), (211359, 0), (211847, 0), (213119, 0), (213150, 0), (216683, 0), (216861, 0), (217375, 0), (217742, 0), (217889, 0), (218608, 0), (219209, 0), (219650, 0), (220278, 0), (220911, 0), (221135, 0), (221904, 0), (221939, 0), (222050, 0), (222207, 0), (222217, 0), (224093, 0), (224249, 0), (224997, 0), (225810, 0), (225826, 0), (225938, 0), (226393, 0), (226702, 0), (226847, 0), (227494, 0), (227836, 0), (227976, 0), (228128, 0), (228321, 0), (228504, 0), (229064, 0), (229313, 0), (229440, 0), (229741, 0), (230249, 0), (231022, 0), (231237, 0), (231857, 0), (232131, 0), (232801, 0), (232959, 0), (232990, 0), (233356, 0), (234108, 0), (234205, 0), (234544, 0), (235030, 0), (235105, 0), (235221, 0), (235842, 0), (236058, 0), (236172, 0), (236283, 0), (236340, 0), (237451, 0), (238390, 0), (238528, 0), (239076, 0), (240035, 0), (240495, 0), (240567, 0), (240643, 0), (241614, 0), (242007, 0), (242073, 0), (242083, 0), (242361, 0), (243700, 0), (244056, 0), (244736, 0), (245007, 0), (245313, 0), (245371, 0), (245828, 0), (245963, 0), (246513, 0), (246617, 0), (246620, 0), (246759, 0), (246776, 0), (247447, 0), (247751, 0), (248718, 0), (249058, 0), (249174, 0), (249508, 0), (249695, 0), (249914, 0), (250962, 0), (251394, 0), (251422, 0), (251613, 0), (251843, 0), (251844, 0), (252222, 0), (253106, 0), (253375, 0), (253407, 0), (253580, 0), (253821, 0), (253949, 0), (254241, 0), (254495, 0), (254971, 0), (255218, 0), (255376, 0), (255722, 0), (255846, 0), (256101, 0), (257028, 0), (257700, 0), (258329, 0), (258534, 0), (258952, 0), (259004, 0), (259064, 0), (259264, 0), (259829, 0), (260183, 0), (260655, 0), (260959, 0), (261567, 0), (261611, 0), (261998, 0), (262391, 0), (262571, 0), (262755, 0), (263163, 0), (263325, 0), (263393, 0), (263877, 0), (264317, 0), (264355, 0), (264543, 0), (264985, 0), (264996, 0), (265595, 0), (265697, 0), (266226, 0), (266580, 0), (266807, 0), (266865, 0), (267830, 0), (268110, 0), (268330, 0), (268521, 0), (268622, 0), (268657, 0), (268932, 0), (269556, 0), (269799, 0), (270069, 0), (270370, 0), (270713, 0), (270715, 0), (271086, 0), (271176, 0), (271195, 0), (271284, 0), (271438, 0), (271711, 0), (271859, 0), (271911, 0), (273581, 0), (274004, 0), (274061, 0), (274273, 0), (274418, 0), (274701, 0), (274773, 0), (275111, 0), (275306, 0), (275520, 0), (275970, 0), (276953, 0), (277743, 0), (277954, 0), (278243, 0), (278422, 0)])"
            ]
          },
          "metadata": {
            "tags": []
          },
          "execution_count": 116
        }
      ]
    },
    {
      "cell_type": "code",
      "metadata": {
        "id": "MHyuN-yKSQYg",
        "colab_type": "code",
        "colab": {
          "base_uri": "https://localhost:8080/",
          "height": 204
        },
        "outputId": "285df798-4ab1-4611-9ad1-e5643d121a40"
      },
      "source": [
        "pearsonDF = pd.DataFrame.from_dict(pearsonCorrelationDict, orient='Index')\n",
        "pearsonDF.columns = ['Similarity Index']\n",
        "pearsonDF['User-ID'] = pearsonDF.index\n",
        "pearsonDF.index = range(len(pearsonDF))\n",
        "pearsonDF.head()"
      ],
      "execution_count": 117,
      "outputs": [
        {
          "output_type": "execute_result",
          "data": {
            "text/html": [
              "<div>\n",
              "<style scoped>\n",
              "    .dataframe tbody tr th:only-of-type {\n",
              "        vertical-align: middle;\n",
              "    }\n",
              "\n",
              "    .dataframe tbody tr th {\n",
              "        vertical-align: top;\n",
              "    }\n",
              "\n",
              "    .dataframe thead th {\n",
              "        text-align: right;\n",
              "    }\n",
              "</style>\n",
              "<table border=\"1\" class=\"dataframe\">\n",
              "  <thead>\n",
              "    <tr style=\"text-align: right;\">\n",
              "      <th></th>\n",
              "      <th>Similarity Index</th>\n",
              "      <th>User-ID</th>\n",
              "    </tr>\n",
              "  </thead>\n",
              "  <tbody>\n",
              "    <tr>\n",
              "      <th>0</th>\n",
              "      <td>0.687712</td>\n",
              "      <td>11676</td>\n",
              "    </tr>\n",
              "    <tr>\n",
              "      <th>1</th>\n",
              "      <td>0.000000</td>\n",
              "      <td>55492</td>\n",
              "    </tr>\n",
              "    <tr>\n",
              "      <th>2</th>\n",
              "      <td>-0.185164</td>\n",
              "      <td>271705</td>\n",
              "    </tr>\n",
              "    <tr>\n",
              "      <th>3</th>\n",
              "      <td>0.000000</td>\n",
              "      <td>23768</td>\n",
              "    </tr>\n",
              "    <tr>\n",
              "      <th>4</th>\n",
              "      <td>-0.433555</td>\n",
              "      <td>23902</td>\n",
              "    </tr>\n",
              "  </tbody>\n",
              "</table>\n",
              "</div>"
            ],
            "text/plain": [
              "   Similarity Index  User-ID\n",
              "0          0.687712    11676\n",
              "1          0.000000    55492\n",
              "2         -0.185164   271705\n",
              "3          0.000000    23768\n",
              "4         -0.433555    23902"
            ]
          },
          "metadata": {
            "tags": []
          },
          "execution_count": 117
        }
      ]
    },
    {
      "cell_type": "markdown",
      "metadata": {
        "id": "8P7Jlvnx5NDN",
        "colab_type": "text"
      },
      "source": [
        "###Most Similar Users"
      ]
    },
    {
      "cell_type": "code",
      "metadata": {
        "id": "CCfZHvcDTlDQ",
        "colab_type": "code",
        "colab": {
          "base_uri": "https://localhost:8080/",
          "height": 204
        },
        "outputId": "e3efa3ff-e721-48ee-e43e-4cc26c74333e"
      },
      "source": [
        "topUsers=pearsonDF.sort_values(by='Similarity Index', ascending=False)[0:50]\n",
        "topUsers.head()"
      ],
      "execution_count": 118,
      "outputs": [
        {
          "output_type": "execute_result",
          "data": {
            "text/html": [
              "<div>\n",
              "<style scoped>\n",
              "    .dataframe tbody tr th:only-of-type {\n",
              "        vertical-align: middle;\n",
              "    }\n",
              "\n",
              "    .dataframe tbody tr th {\n",
              "        vertical-align: top;\n",
              "    }\n",
              "\n",
              "    .dataframe thead th {\n",
              "        text-align: right;\n",
              "    }\n",
              "</style>\n",
              "<table border=\"1\" class=\"dataframe\">\n",
              "  <thead>\n",
              "    <tr style=\"text-align: right;\">\n",
              "      <th></th>\n",
              "      <th>Similarity Index</th>\n",
              "      <th>User-ID</th>\n",
              "    </tr>\n",
              "  </thead>\n",
              "  <tbody>\n",
              "    <tr>\n",
              "      <th>31</th>\n",
              "      <td>1.0</td>\n",
              "      <td>80538</td>\n",
              "    </tr>\n",
              "    <tr>\n",
              "      <th>17</th>\n",
              "      <td>1.0</td>\n",
              "      <td>28150</td>\n",
              "    </tr>\n",
              "    <tr>\n",
              "      <th>59</th>\n",
              "      <td>1.0</td>\n",
              "      <td>211919</td>\n",
              "    </tr>\n",
              "    <tr>\n",
              "      <th>58</th>\n",
              "      <td>1.0</td>\n",
              "      <td>210485</td>\n",
              "    </tr>\n",
              "    <tr>\n",
              "      <th>56</th>\n",
              "      <td>1.0</td>\n",
              "      <td>201526</td>\n",
              "    </tr>\n",
              "  </tbody>\n",
              "</table>\n",
              "</div>"
            ],
            "text/plain": [
              "    Similarity Index  User-ID\n",
              "31               1.0    80538\n",
              "17               1.0    28150\n",
              "59               1.0   211919\n",
              "58               1.0   210485\n",
              "56               1.0   201526"
            ]
          },
          "metadata": {
            "tags": []
          },
          "execution_count": 118
        }
      ]
    },
    {
      "cell_type": "markdown",
      "metadata": {
        "id": "9W4ygWAM5jr9",
        "colab_type": "text"
      },
      "source": [
        "###Ratings of Selected Users for all Books"
      ]
    },
    {
      "cell_type": "code",
      "metadata": {
        "id": "-BTl-9SgUAB2",
        "colab_type": "code",
        "colab": {
          "base_uri": "https://localhost:8080/",
          "height": 204
        },
        "outputId": "b2a99a28-8364-4dd5-995a-1af554de54ab"
      },
      "source": [
        "topUsersRating=topUsers.merge(BR,left_on='User-ID',right_on='User-ID',left_index=False, right_index=False,how='inner')\n",
        "topUsersRating.head()"
      ],
      "execution_count": 119,
      "outputs": [
        {
          "output_type": "execute_result",
          "data": {
            "text/html": [
              "<div>\n",
              "<style scoped>\n",
              "    .dataframe tbody tr th:only-of-type {\n",
              "        vertical-align: middle;\n",
              "    }\n",
              "\n",
              "    .dataframe tbody tr th {\n",
              "        vertical-align: top;\n",
              "    }\n",
              "\n",
              "    .dataframe thead th {\n",
              "        text-align: right;\n",
              "    }\n",
              "</style>\n",
              "<table border=\"1\" class=\"dataframe\">\n",
              "  <thead>\n",
              "    <tr style=\"text-align: right;\">\n",
              "      <th></th>\n",
              "      <th>Similarity Index</th>\n",
              "      <th>User-ID</th>\n",
              "      <th>ISBN</th>\n",
              "      <th>Book-Rating</th>\n",
              "    </tr>\n",
              "  </thead>\n",
              "  <tbody>\n",
              "    <tr>\n",
              "      <th>0</th>\n",
              "      <td>1.0</td>\n",
              "      <td>80538</td>\n",
              "      <td>0006499465</td>\n",
              "      <td>0</td>\n",
              "    </tr>\n",
              "    <tr>\n",
              "      <th>1</th>\n",
              "      <td>1.0</td>\n",
              "      <td>80538</td>\n",
              "      <td>0006499503</td>\n",
              "      <td>0</td>\n",
              "    </tr>\n",
              "    <tr>\n",
              "      <th>2</th>\n",
              "      <td>1.0</td>\n",
              "      <td>80538</td>\n",
              "      <td>0006510884</td>\n",
              "      <td>0</td>\n",
              "    </tr>\n",
              "    <tr>\n",
              "      <th>3</th>\n",
              "      <td>1.0</td>\n",
              "      <td>80538</td>\n",
              "      <td>002542730X</td>\n",
              "      <td>7</td>\n",
              "    </tr>\n",
              "    <tr>\n",
              "      <th>4</th>\n",
              "      <td>1.0</td>\n",
              "      <td>80538</td>\n",
              "      <td>0028604199</td>\n",
              "      <td>0</td>\n",
              "    </tr>\n",
              "  </tbody>\n",
              "</table>\n",
              "</div>"
            ],
            "text/plain": [
              "   Similarity Index  User-ID        ISBN  Book-Rating\n",
              "0               1.0    80538  0006499465            0\n",
              "1               1.0    80538  0006499503            0\n",
              "2               1.0    80538  0006510884            0\n",
              "3               1.0    80538  002542730X            7\n",
              "4               1.0    80538  0028604199            0"
            ]
          },
          "metadata": {
            "tags": []
          },
          "execution_count": 119
        }
      ]
    },
    {
      "cell_type": "code",
      "metadata": {
        "id": "gPZH_T3dUhJW",
        "colab_type": "code",
        "colab": {
          "base_uri": "https://localhost:8080/",
          "height": 204
        },
        "outputId": "a18b7764-06a5-4941-c9f7-45053881a7d2"
      },
      "source": [
        "topUsersRating['Weighted Rating'] = topUsersRating['Similarity Index']*topUsersRating['Book-Rating']\n",
        "topUsersRating.head()"
      ],
      "execution_count": 120,
      "outputs": [
        {
          "output_type": "execute_result",
          "data": {
            "text/html": [
              "<div>\n",
              "<style scoped>\n",
              "    .dataframe tbody tr th:only-of-type {\n",
              "        vertical-align: middle;\n",
              "    }\n",
              "\n",
              "    .dataframe tbody tr th {\n",
              "        vertical-align: top;\n",
              "    }\n",
              "\n",
              "    .dataframe thead th {\n",
              "        text-align: right;\n",
              "    }\n",
              "</style>\n",
              "<table border=\"1\" class=\"dataframe\">\n",
              "  <thead>\n",
              "    <tr style=\"text-align: right;\">\n",
              "      <th></th>\n",
              "      <th>Similarity Index</th>\n",
              "      <th>User-ID</th>\n",
              "      <th>ISBN</th>\n",
              "      <th>Book-Rating</th>\n",
              "      <th>Weighted Rating</th>\n",
              "    </tr>\n",
              "  </thead>\n",
              "  <tbody>\n",
              "    <tr>\n",
              "      <th>0</th>\n",
              "      <td>1.0</td>\n",
              "      <td>80538</td>\n",
              "      <td>0006499465</td>\n",
              "      <td>0</td>\n",
              "      <td>0.0</td>\n",
              "    </tr>\n",
              "    <tr>\n",
              "      <th>1</th>\n",
              "      <td>1.0</td>\n",
              "      <td>80538</td>\n",
              "      <td>0006499503</td>\n",
              "      <td>0</td>\n",
              "      <td>0.0</td>\n",
              "    </tr>\n",
              "    <tr>\n",
              "      <th>2</th>\n",
              "      <td>1.0</td>\n",
              "      <td>80538</td>\n",
              "      <td>0006510884</td>\n",
              "      <td>0</td>\n",
              "      <td>0.0</td>\n",
              "    </tr>\n",
              "    <tr>\n",
              "      <th>3</th>\n",
              "      <td>1.0</td>\n",
              "      <td>80538</td>\n",
              "      <td>002542730X</td>\n",
              "      <td>7</td>\n",
              "      <td>7.0</td>\n",
              "    </tr>\n",
              "    <tr>\n",
              "      <th>4</th>\n",
              "      <td>1.0</td>\n",
              "      <td>80538</td>\n",
              "      <td>0028604199</td>\n",
              "      <td>0</td>\n",
              "      <td>0.0</td>\n",
              "    </tr>\n",
              "  </tbody>\n",
              "</table>\n",
              "</div>"
            ],
            "text/plain": [
              "   Similarity Index  User-ID        ISBN  Book-Rating  Weighted Rating\n",
              "0               1.0    80538  0006499465            0              0.0\n",
              "1               1.0    80538  0006499503            0              0.0\n",
              "2               1.0    80538  0006510884            0              0.0\n",
              "3               1.0    80538  002542730X            7              7.0\n",
              "4               1.0    80538  0028604199            0              0.0"
            ]
          },
          "metadata": {
            "tags": []
          },
          "execution_count": 120
        }
      ]
    },
    {
      "cell_type": "code",
      "metadata": {
        "id": "tKBPRCTvYyOx",
        "colab_type": "code",
        "colab": {
          "base_uri": "https://localhost:8080/",
          "height": 235
        },
        "outputId": "bfbfec6a-bc5b-4e41-ae29-325ccd4b2afa"
      },
      "source": [
        "tempTopUsersRating = topUsersRating.groupby('ISBN').sum()[['Similarity Index','Weighted Rating']]\n",
        "tempTopUsersRating.columns = ['sum_similarityIndex','sum_weightedRating']\n",
        "tempTopUsersRating.head()"
      ],
      "execution_count": 121,
      "outputs": [
        {
          "output_type": "execute_result",
          "data": {
            "text/html": [
              "<div>\n",
              "<style scoped>\n",
              "    .dataframe tbody tr th:only-of-type {\n",
              "        vertical-align: middle;\n",
              "    }\n",
              "\n",
              "    .dataframe tbody tr th {\n",
              "        vertical-align: top;\n",
              "    }\n",
              "\n",
              "    .dataframe thead th {\n",
              "        text-align: right;\n",
              "    }\n",
              "</style>\n",
              "<table border=\"1\" class=\"dataframe\">\n",
              "  <thead>\n",
              "    <tr style=\"text-align: right;\">\n",
              "      <th></th>\n",
              "      <th>sum_similarityIndex</th>\n",
              "      <th>sum_weightedRating</th>\n",
              "    </tr>\n",
              "    <tr>\n",
              "      <th>ISBN</th>\n",
              "      <th></th>\n",
              "      <th></th>\n",
              "    </tr>\n",
              "  </thead>\n",
              "  <tbody>\n",
              "    <tr>\n",
              "      <th>9022906116</th>\n",
              "      <td>0.687712</td>\n",
              "      <td>4.813984</td>\n",
              "    </tr>\n",
              "    <tr>\n",
              "      <th>*0452281903</th>\n",
              "      <td>1.000000</td>\n",
              "      <td>0.000000</td>\n",
              "    </tr>\n",
              "    <tr>\n",
              "      <th>0 7336 1053 6</th>\n",
              "      <td>0.687712</td>\n",
              "      <td>0.000000</td>\n",
              "    </tr>\n",
              "    <tr>\n",
              "      <th>0000000000</th>\n",
              "      <td>0.687712</td>\n",
              "      <td>6.189408</td>\n",
              "    </tr>\n",
              "    <tr>\n",
              "      <th>00000000000</th>\n",
              "      <td>0.687712</td>\n",
              "      <td>5.501696</td>\n",
              "    </tr>\n",
              "  </tbody>\n",
              "</table>\n",
              "</div>"
            ],
            "text/plain": [
              "               sum_similarityIndex  sum_weightedRating\n",
              "ISBN                                                  \n",
              " 9022906116               0.687712            4.813984\n",
              "*0452281903               1.000000            0.000000\n",
              "0 7336 1053 6             0.687712            0.000000\n",
              "0000000000                0.687712            6.189408\n",
              "00000000000               0.687712            5.501696"
            ]
          },
          "metadata": {
            "tags": []
          },
          "execution_count": 121
        }
      ]
    },
    {
      "cell_type": "code",
      "metadata": {
        "id": "fJ5Lb7LPjXo1",
        "colab_type": "code",
        "colab": {
          "base_uri": "https://localhost:8080/",
          "height": 235
        },
        "outputId": "1d39654a-e7d1-482d-ec9e-b8630fea66f9"
      },
      "source": [
        "#Creates an empty dataframe\n",
        "recommendation_df = pd.DataFrame()\n",
        "#Taking the weighted average\n",
        "recommendation_df['Weighted Average Recommendation Score'] = tempTopUsersRating['sum_weightedRating']/tempTopUsersRating['sum_similarityIndex']\n",
        "recommendation_df['ISBN'] = tempTopUsersRating.index\n",
        "recommendation_df.head()"
      ],
      "execution_count": 122,
      "outputs": [
        {
          "output_type": "execute_result",
          "data": {
            "text/html": [
              "<div>\n",
              "<style scoped>\n",
              "    .dataframe tbody tr th:only-of-type {\n",
              "        vertical-align: middle;\n",
              "    }\n",
              "\n",
              "    .dataframe tbody tr th {\n",
              "        vertical-align: top;\n",
              "    }\n",
              "\n",
              "    .dataframe thead th {\n",
              "        text-align: right;\n",
              "    }\n",
              "</style>\n",
              "<table border=\"1\" class=\"dataframe\">\n",
              "  <thead>\n",
              "    <tr style=\"text-align: right;\">\n",
              "      <th></th>\n",
              "      <th>Weighted Average Recommendation Score</th>\n",
              "      <th>ISBN</th>\n",
              "    </tr>\n",
              "    <tr>\n",
              "      <th>ISBN</th>\n",
              "      <th></th>\n",
              "      <th></th>\n",
              "    </tr>\n",
              "  </thead>\n",
              "  <tbody>\n",
              "    <tr>\n",
              "      <th>9022906116</th>\n",
              "      <td>7.0</td>\n",
              "      <td>9022906116</td>\n",
              "    </tr>\n",
              "    <tr>\n",
              "      <th>*0452281903</th>\n",
              "      <td>0.0</td>\n",
              "      <td>*0452281903</td>\n",
              "    </tr>\n",
              "    <tr>\n",
              "      <th>0 7336 1053 6</th>\n",
              "      <td>0.0</td>\n",
              "      <td>0 7336 1053 6</td>\n",
              "    </tr>\n",
              "    <tr>\n",
              "      <th>0000000000</th>\n",
              "      <td>9.0</td>\n",
              "      <td>0000000000</td>\n",
              "    </tr>\n",
              "    <tr>\n",
              "      <th>00000000000</th>\n",
              "      <td>8.0</td>\n",
              "      <td>00000000000</td>\n",
              "    </tr>\n",
              "  </tbody>\n",
              "</table>\n",
              "</div>"
            ],
            "text/plain": [
              "               Weighted Average Recommendation Score           ISBN\n",
              "ISBN                                                               \n",
              " 9022906116                                      7.0     9022906116\n",
              "*0452281903                                      0.0    *0452281903\n",
              "0 7336 1053 6                                    0.0  0 7336 1053 6\n",
              "0000000000                                       9.0     0000000000\n",
              "00000000000                                      8.0    00000000000"
            ]
          },
          "metadata": {
            "tags": []
          },
          "execution_count": 122
        }
      ]
    },
    {
      "cell_type": "code",
      "metadata": {
        "id": "mrMXdSIOjolW",
        "colab_type": "code",
        "colab": {
          "base_uri": "https://localhost:8080/",
          "height": 235
        },
        "outputId": "d9f38ad3-8c0a-4fd8-d9b7-405a98643666"
      },
      "source": [
        "recommendation_df = recommendation_df.sort_values(by='Weighted Average Recommendation Score', ascending=False)\n",
        "recommendation_df.head()"
      ],
      "execution_count": 123,
      "outputs": [
        {
          "output_type": "execute_result",
          "data": {
            "text/html": [
              "<div>\n",
              "<style scoped>\n",
              "    .dataframe tbody tr th:only-of-type {\n",
              "        vertical-align: middle;\n",
              "    }\n",
              "\n",
              "    .dataframe tbody tr th {\n",
              "        vertical-align: top;\n",
              "    }\n",
              "\n",
              "    .dataframe thead th {\n",
              "        text-align: right;\n",
              "    }\n",
              "</style>\n",
              "<table border=\"1\" class=\"dataframe\">\n",
              "  <thead>\n",
              "    <tr style=\"text-align: right;\">\n",
              "      <th></th>\n",
              "      <th>Weighted Average Recommendation Score</th>\n",
              "      <th>ISBN</th>\n",
              "    </tr>\n",
              "    <tr>\n",
              "      <th>ISBN</th>\n",
              "      <th></th>\n",
              "      <th></th>\n",
              "    </tr>\n",
              "  </thead>\n",
              "  <tbody>\n",
              "    <tr>\n",
              "      <th>0440977096</th>\n",
              "      <td>10.0</td>\n",
              "      <td>0440977096</td>\n",
              "    </tr>\n",
              "    <tr>\n",
              "      <th>0439288568</th>\n",
              "      <td>10.0</td>\n",
              "      <td>0439288568</td>\n",
              "    </tr>\n",
              "    <tr>\n",
              "      <th>0766607631</th>\n",
              "      <td>10.0</td>\n",
              "      <td>0766607631</td>\n",
              "    </tr>\n",
              "    <tr>\n",
              "      <th>0770428312</th>\n",
              "      <td>10.0</td>\n",
              "      <td>0770428312</td>\n",
              "    </tr>\n",
              "    <tr>\n",
              "      <th>077042239X</th>\n",
              "      <td>10.0</td>\n",
              "      <td>077042239X</td>\n",
              "    </tr>\n",
              "  </tbody>\n",
              "</table>\n",
              "</div>"
            ],
            "text/plain": [
              "            Weighted Average Recommendation Score        ISBN\n",
              "ISBN                                                         \n",
              "0440977096                                   10.0  0440977096\n",
              "0439288568                                   10.0  0439288568\n",
              "0766607631                                   10.0  0766607631\n",
              "0770428312                                   10.0  0770428312\n",
              "077042239X                                   10.0  077042239X"
            ]
          },
          "metadata": {
            "tags": []
          },
          "execution_count": 123
        }
      ]
    },
    {
      "cell_type": "markdown",
      "metadata": {
        "id": "VV4JeftF69zW",
        "colab_type": "text"
      },
      "source": [
        "###Recommended Books for New User"
      ]
    },
    {
      "cell_type": "code",
      "metadata": {
        "id": "QOxOoCYHj7cV",
        "colab_type": "code",
        "colab": {
          "base_uri": "https://localhost:8080/",
          "height": 363
        },
        "outputId": "09baef38-62a4-4dea-9b89-3ea6f35aa4c8"
      },
      "source": [
        "B.loc[B['ISBN'].isin(recommendation_df.head(10)['ISBN'].tolist())]"
      ],
      "execution_count": 124,
      "outputs": [
        {
          "output_type": "execute_result",
          "data": {
            "text/html": [
              "<div>\n",
              "<style scoped>\n",
              "    .dataframe tbody tr th:only-of-type {\n",
              "        vertical-align: middle;\n",
              "    }\n",
              "\n",
              "    .dataframe tbody tr th {\n",
              "        vertical-align: top;\n",
              "    }\n",
              "\n",
              "    .dataframe thead th {\n",
              "        text-align: right;\n",
              "    }\n",
              "</style>\n",
              "<table border=\"1\" class=\"dataframe\">\n",
              "  <thead>\n",
              "    <tr style=\"text-align: right;\">\n",
              "      <th></th>\n",
              "      <th>ISBN</th>\n",
              "      <th>Book-Title</th>\n",
              "      <th>Book-Author</th>\n",
              "      <th>Year-Of-Publication</th>\n",
              "      <th>Publisher</th>\n",
              "      <th>Image-URL-S</th>\n",
              "      <th>Image-URL-M</th>\n",
              "      <th>Image-URL-L</th>\n",
              "    </tr>\n",
              "  </thead>\n",
              "  <tbody>\n",
              "    <tr>\n",
              "      <th>5316</th>\n",
              "      <td>0767914767</td>\n",
              "      <td>The Devil Wears Prada : A Novel</td>\n",
              "      <td>LAUREN WEISBERGER</td>\n",
              "      <td>2004</td>\n",
              "      <td>Broadway Books</td>\n",
              "      <td>http://images.amazon.com/images/P/0767914767.0...</td>\n",
              "      <td>http://images.amazon.com/images/P/0767914767.0...</td>\n",
              "      <td>http://images.amazon.com/images/P/0767914767.0...</td>\n",
              "    </tr>\n",
              "    <tr>\n",
              "      <th>9131</th>\n",
              "      <td>0345469674</td>\n",
              "      <td>Girls' Poker Night</td>\n",
              "      <td>JILL DAVIS</td>\n",
              "      <td>2004</td>\n",
              "      <td>Ballantine Books</td>\n",
              "      <td>http://images.amazon.com/images/P/0345469674.0...</td>\n",
              "      <td>http://images.amazon.com/images/P/0345469674.0...</td>\n",
              "      <td>http://images.amazon.com/images/P/0345469674.0...</td>\n",
              "    </tr>\n",
              "    <tr>\n",
              "      <th>58789</th>\n",
              "      <td>0440977096</td>\n",
              "      <td>The Secret Garden</td>\n",
              "      <td>Frances Hodgson Burnett</td>\n",
              "      <td>1989</td>\n",
              "      <td>Laure Leaf</td>\n",
              "      <td>http://images.amazon.com/images/P/0440977096.0...</td>\n",
              "      <td>http://images.amazon.com/images/P/0440977096.0...</td>\n",
              "      <td>http://images.amazon.com/images/P/0440977096.0...</td>\n",
              "    </tr>\n",
              "    <tr>\n",
              "      <th>97751</th>\n",
              "      <td>0770428312</td>\n",
              "      <td>The Dionnes</td>\n",
              "      <td>Ellie Tesher</td>\n",
              "      <td>2000</td>\n",
              "      <td>Bantam Books</td>\n",
              "      <td>http://images.amazon.com/images/P/0770428312.0...</td>\n",
              "      <td>http://images.amazon.com/images/P/0770428312.0...</td>\n",
              "      <td>http://images.amazon.com/images/P/0770428312.0...</td>\n",
              "    </tr>\n",
              "  </tbody>\n",
              "</table>\n",
              "</div>"
            ],
            "text/plain": [
              "             ISBN  ...                                        Image-URL-L\n",
              "5316   0767914767  ...  http://images.amazon.com/images/P/0767914767.0...\n",
              "9131   0345469674  ...  http://images.amazon.com/images/P/0345469674.0...\n",
              "58789  0440977096  ...  http://images.amazon.com/images/P/0440977096.0...\n",
              "97751  0770428312  ...  http://images.amazon.com/images/P/0770428312.0...\n",
              "\n",
              "[4 rows x 8 columns]"
            ]
          },
          "metadata": {
            "tags": []
          },
          "execution_count": 124
        }
      ]
    }
  ]
}